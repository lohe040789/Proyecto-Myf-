{
 "cells": [
  {
   "cell_type": "code",
   "execution_count": 7,
   "metadata": {},
   "outputs": [],
   "source": [
    "import MySQLdb as mysql\n",
    "import pandas as pd\n",
    "import pymysql"
   ]
  },
  {
   "cell_type": "code",
   "execution_count": 5,
   "metadata": {},
   "outputs": [],
   "source": [
    "# Conéctate a la base de datos de MySQL\n",
    "db = mysql.connect(host=\"localhost\", user=\"root\", passwd=\"Reina-0601\")\n",
    "\n",
    "# Crea un cursor para la base de datos\n",
    "cursor = db.cursor()\n",
    "\n",
    "# Crea la base de datos si no existe\n",
    "database_name = \"clientes_myf\"\n",
    "cursor.execute(f\"CREATE DATABASE IF NOT EXISTS {database_name}\")\n",
    "\n",
    "# Cierra el cursor y confirma los cambios en la base de datos\n",
    "cursor.close()\n",
    "db.commit()\n",
    "\n",
    "# Cierra la conexión a la base de datos\n",
    "db.close()"
   ]
  },
  {
   "cell_type": "code",
   "execution_count": 6,
   "metadata": {},
   "outputs": [],
   "source": [
    "# Conéctate a la base de datos de MySQL\n",
    "db = mysql.connect(host=\"localhost\", user=\"root\", passwd=\"Reina-0601\", db=\"clientes_myf\")\n",
    "\n",
    "# Crea un cursor para la base de datos\n",
    "cursor = db.cursor()\n",
    "\n",
    "# Define la estructura de la tabla\n",
    "table_schema = \"CREATE TABLE IF NOT EXISTS registros (id INT AUTO_INCREMENT PRIMARY KEY, Nombre VARCHAR(255), Apellido VARCHAR(255), Telefono VARCHAR(255), Correo VARCHAR(255), DNI VARCHAR(255), Fecha_de_Nacimiento DATE, Codigo_Postal VARCHAR(255))\"\n",
    "\n",
    "# Crea la tabla\n",
    "cursor.execute(table_schema)\n",
    "\n",
    "# Cierra el cursor y confirma los cambios en la base de datos\n",
    "cursor.close()\n",
    "db.commit()\n",
    "\n",
    "# Cierra la conexión a la base de datos\n",
    "db.close()"
   ]
  },
  {
   "cell_type": "code",
   "execution_count": 19,
   "metadata": {},
   "outputs": [
    {
     "name": "stdout",
     "output_type": "stream",
     "text": [
      "Registro existente para DNI: Y5168078S\n",
      "Registro existente para DNI: Y5092252C\n",
      "Registro insertado para DNI: Y0000000Z\n"
     ]
    }
   ],
   "source": [
    "# Conéctate a la base de datos de MySQL\n",
    "db = mysql.connect(host=\"localhost\", user=\"root\", passwd=\"Reina-0601\", db=\"clientes_myf\")\n",
    "\n",
    "# Crea un cursor para la base de datos\n",
    "cursor = db.cursor()\n",
    "\n",
    "# Lee los datos de la hoja de Excel usando pandas\n",
    "excel_data = pd.read_excel(\"clientes_myf.xlsx\")\n",
    "\n",
    "# Itera sobre los registros de la hoja de Excel y los inserta en la tabla correspondiente\n",
    "for index, row in excel_data.iterrows():\n",
    "    nombre = row[\"Nombre\"]\n",
    "    apellido = row[\"Apellido\"]\n",
    "    telefono = row[\"Telefono\"]\n",
    "    correo = row[\"Correo\"]\n",
    "    dni = row[\"DNI\"]\n",
    "    Fecha_de_Nacimiento = row[\"Fecha de Nacimiento\"]\n",
    "    codigo_postal = row[\"Codigo Postal\"]\n",
    "\n",
    "# Revisa si el registro ya existe en la base de datos por medio del dni\n",
    "    cursor.execute(f\"SELECT * FROM registros WHERE DNI = '{dni}'\")\n",
    "    results = cursor.fetchall()\n",
    "\n",
    "    # Si el registro no existe en la base de datos, lo inserta\n",
    "    if not results:\n",
    "        cursor.execute(f\"INSERT INTO registros (Nombre, Apellido, Telefono, Correo, DNI, Fecha_de_Nacimiento, Codigo_Postal) VALUES ('{nombre}', '{apellido}', '{telefono}', '{correo}', '{dni}', '{fecha_nacimiento}', '{codigo_postal}')\")\n",
    "        print(f\"Registro insertado para DNI: {dni}\")\n",
    "    else:\n",
    "        print(f\"Registro existente para DNI: {dni}\")\n",
    "\n",
    "# Confirma los cambios en la base de datos y cierra el cursor\n",
    "db.commit()\n",
    "cursor.close()\n",
    "\n",
    "# Cierra la conexión a la base de datos\n",
    "db.close()"
   ]
  },
  {
   "cell_type": "code",
   "execution_count": 2,
   "metadata": {},
   "outputs": [
    {
     "name": "stdout",
     "output_type": "stream",
     "text": [
      "Base de datos creada con éxito\n"
     ]
    }
   ],
   "source": [
    "print(\"Base de datos creada con éxito\")"
   ]
  },
  {
   "cell_type": "code",
   "execution_count": null,
   "metadata": {},
   "outputs": [],
   "source": []
  }
 ],
 "metadata": {
  "kernelspec": {
   "display_name": "Python 3",
   "language": "python",
   "name": "python3"
  },
  "language_info": {
   "codemirror_mode": {
    "name": "ipython",
    "version": 3
   },
   "file_extension": ".py",
   "mimetype": "text/x-python",
   "name": "python",
   "nbconvert_exporter": "python",
   "pygments_lexer": "ipython3",
   "version": "3.10.7"
  },
  "orig_nbformat": 4,
  "vscode": {
   "interpreter": {
    "hash": "8d0864e8601acec23bf7956f5ba9d5922decfc4a3b2966f30d368ad5733be0b1"
   }
  }
 },
 "nbformat": 4,
 "nbformat_minor": 2
}
